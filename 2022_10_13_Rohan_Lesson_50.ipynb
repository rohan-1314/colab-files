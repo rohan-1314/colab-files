{
  "nbformat": 4,
  "nbformat_minor": 0,
  "metadata": {
    "colab": {
      "provenance": [],
      "collapsed_sections": [],
      "include_colab_link": true
    },
    "kernelspec": {
      "name": "python3",
      "display_name": "Python 3"
    }
  },
  "cells": [
    {
      "cell_type": "markdown",
      "metadata": {
        "id": "view-in-github",
        "colab_type": "text"
      },
      "source": [
        "<a href=\"https://colab.research.google.com/github/rohan-1314/colab-files/blob/main/2022_10_13_Rohan_Lesson_50.ipynb\" target=\"_parent\"><img src=\"https://colab.research.google.com/assets/colab-badge.svg\" alt=\"Open In Colab\"/></a>"
      ]
    },
    {
      "cell_type": "markdown",
      "metadata": {
        "id": "Q7hw3pDcIn2J"
      },
      "source": [
        "# Lesson 50: CLT II And Standard Normal Distribution"
      ]
    },
    {
      "cell_type": "markdown",
      "metadata": {
        "id": "3U_BAlxOnVuh"
      },
      "source": [
        "### Teacher-Student Activities\n",
        "\n",
        "In this class, we will learn the following concepts:\n",
        "\n",
        "- How to calculate the population mean with 95% probability, using the sample mean and sample standard deviation.\n",
        "\n",
        "- Normalise an array/series of numeric values using the standard normalisation technique and plot a standard normal distribution curve.\n",
        "\n",
        "Let's quickly go through the activities covered in the previous class and begin this class from **Activity 1: Sampling Distribution And Standard Error**. \n"
      ]
    },
    {
      "cell_type": "markdown",
      "metadata": {
        "id": "Gn0HLG8mtLo-"
      },
      "source": [
        "---"
      ]
    },
    {
      "cell_type": "markdown",
      "metadata": {
        "id": "ze9uSJt-I-0E"
      },
      "source": [
        "**Data Description**\n",
        "\n",
        "The heart Disease UCI dataset contains data collected on 14 different attributes by examining 303 patients. The dataset focuses only on differentiating patients having heart disease; labelled as value 1 and those not having heart disease; labelled as value 0. The 14 attributes (or columns) are as follows:\n",
        "\n",
        "|Columns|Description|\n",
        "|-|-|\n",
        "|age|age in years|\n",
        "|sex|sex (1 = male; 0 = female)|\n",
        "|cp|chest pain type (4 values)|\n",
        "|trestbps|resting blood pressure (in mm Hg on admission to the hospital)|\n",
        "|chol|serum cholesterol in $\\frac{mg}{dl}$|\n",
        "|fbs|fasting blood sugar > 120 $\\frac{mg}{dl}$|\n",
        "|restecg|resting electrocardiographic results (values 0, 1, 2)|\n",
        "|thalach|maximum heart rate achieved|\n",
        "|exang|exercise induced angina (1 = yes; 0 = no)|\n",
        "|oldpeak|ST depression induced by exercise relative to rest|\n",
        "|slope|the slope of the peak exercise ST segment|\n",
        "|ca|number of major vessels (0-3) colored by fluoroscopy|\n",
        "|thal|A blood disorder called thalassemia|\n",
        "|target|1 = presence of heart disease; 0 = absence of heart disease|\n",
        "\n",
        "**Source:** https://archive.ics.uci.edu/ml/datasets/Heart+Disease\n",
        "\n",
        "\n"
      ]
    },
    {
      "cell_type": "markdown",
      "metadata": {
        "id": "BpKI2pWEtREK"
      },
      "source": [
        "---"
      ]
    },
    {
      "cell_type": "markdown",
      "metadata": {
        "id": "zvlK3lxPrnjT"
      },
      "source": [
        "#### Loading Data"
      ]
    },
    {
      "cell_type": "code",
      "metadata": {
        "id": "tmRB05lddS--",
        "colab": {
          "base_uri": "https://localhost:8080/",
          "height": 206
        },
        "outputId": "107278b5-2a7d-49fe-df17-903cb4692a84"
      },
      "source": [
        "# Import the required modules and load the heart disease dataset. Also, display the first five rows.\n",
        "import numpy as np\n",
        "import pandas as pd\n",
        "import matplotlib.pyplot as plt\n",
        "import seaborn as sns\n",
        "\n",
        "csv_file = 'https://s3-student-datasets-bucket.whjr.online/whitehat-ds-datasets/uci-heart-disease/heart.csv'\n",
        "df = pd.read_csv(csv_file)\n",
        "df.head()"
      ],
      "execution_count": 1,
      "outputs": [
        {
          "output_type": "execute_result",
          "data": {
            "text/plain": [
              "   age  sex  cp  trestbps  chol  fbs  restecg  thalach  exang  oldpeak  slope  \\\n",
              "0   63    1   3       145   233    1        0      150      0      2.3      0   \n",
              "1   37    1   2       130   250    0        1      187      0      3.5      0   \n",
              "2   41    0   1       130   204    0        0      172      0      1.4      2   \n",
              "3   56    1   1       120   236    0        1      178      0      0.8      2   \n",
              "4   57    0   0       120   354    0        1      163      1      0.6      2   \n",
              "\n",
              "   ca  thal  target  \n",
              "0   0     1       1  \n",
              "1   0     2       1  \n",
              "2   0     2       1  \n",
              "3   0     2       1  \n",
              "4   0     2       1  "
            ],
            "text/html": [
              "\n",
              "  <div id=\"df-2762680a-a091-4734-bc70-ed34510e824f\">\n",
              "    <div class=\"colab-df-container\">\n",
              "      <div>\n",
              "<style scoped>\n",
              "    .dataframe tbody tr th:only-of-type {\n",
              "        vertical-align: middle;\n",
              "    }\n",
              "\n",
              "    .dataframe tbody tr th {\n",
              "        vertical-align: top;\n",
              "    }\n",
              "\n",
              "    .dataframe thead th {\n",
              "        text-align: right;\n",
              "    }\n",
              "</style>\n",
              "<table border=\"1\" class=\"dataframe\">\n",
              "  <thead>\n",
              "    <tr style=\"text-align: right;\">\n",
              "      <th></th>\n",
              "      <th>age</th>\n",
              "      <th>sex</th>\n",
              "      <th>cp</th>\n",
              "      <th>trestbps</th>\n",
              "      <th>chol</th>\n",
              "      <th>fbs</th>\n",
              "      <th>restecg</th>\n",
              "      <th>thalach</th>\n",
              "      <th>exang</th>\n",
              "      <th>oldpeak</th>\n",
              "      <th>slope</th>\n",
              "      <th>ca</th>\n",
              "      <th>thal</th>\n",
              "      <th>target</th>\n",
              "    </tr>\n",
              "  </thead>\n",
              "  <tbody>\n",
              "    <tr>\n",
              "      <th>0</th>\n",
              "      <td>63</td>\n",
              "      <td>1</td>\n",
              "      <td>3</td>\n",
              "      <td>145</td>\n",
              "      <td>233</td>\n",
              "      <td>1</td>\n",
              "      <td>0</td>\n",
              "      <td>150</td>\n",
              "      <td>0</td>\n",
              "      <td>2.3</td>\n",
              "      <td>0</td>\n",
              "      <td>0</td>\n",
              "      <td>1</td>\n",
              "      <td>1</td>\n",
              "    </tr>\n",
              "    <tr>\n",
              "      <th>1</th>\n",
              "      <td>37</td>\n",
              "      <td>1</td>\n",
              "      <td>2</td>\n",
              "      <td>130</td>\n",
              "      <td>250</td>\n",
              "      <td>0</td>\n",
              "      <td>1</td>\n",
              "      <td>187</td>\n",
              "      <td>0</td>\n",
              "      <td>3.5</td>\n",
              "      <td>0</td>\n",
              "      <td>0</td>\n",
              "      <td>2</td>\n",
              "      <td>1</td>\n",
              "    </tr>\n",
              "    <tr>\n",
              "      <th>2</th>\n",
              "      <td>41</td>\n",
              "      <td>0</td>\n",
              "      <td>1</td>\n",
              "      <td>130</td>\n",
              "      <td>204</td>\n",
              "      <td>0</td>\n",
              "      <td>0</td>\n",
              "      <td>172</td>\n",
              "      <td>0</td>\n",
              "      <td>1.4</td>\n",
              "      <td>2</td>\n",
              "      <td>0</td>\n",
              "      <td>2</td>\n",
              "      <td>1</td>\n",
              "    </tr>\n",
              "    <tr>\n",
              "      <th>3</th>\n",
              "      <td>56</td>\n",
              "      <td>1</td>\n",
              "      <td>1</td>\n",
              "      <td>120</td>\n",
              "      <td>236</td>\n",
              "      <td>0</td>\n",
              "      <td>1</td>\n",
              "      <td>178</td>\n",
              "      <td>0</td>\n",
              "      <td>0.8</td>\n",
              "      <td>2</td>\n",
              "      <td>0</td>\n",
              "      <td>2</td>\n",
              "      <td>1</td>\n",
              "    </tr>\n",
              "    <tr>\n",
              "      <th>4</th>\n",
              "      <td>57</td>\n",
              "      <td>0</td>\n",
              "      <td>0</td>\n",
              "      <td>120</td>\n",
              "      <td>354</td>\n",
              "      <td>0</td>\n",
              "      <td>1</td>\n",
              "      <td>163</td>\n",
              "      <td>1</td>\n",
              "      <td>0.6</td>\n",
              "      <td>2</td>\n",
              "      <td>0</td>\n",
              "      <td>2</td>\n",
              "      <td>1</td>\n",
              "    </tr>\n",
              "  </tbody>\n",
              "</table>\n",
              "</div>\n",
              "      <button class=\"colab-df-convert\" onclick=\"convertToInteractive('df-2762680a-a091-4734-bc70-ed34510e824f')\"\n",
              "              title=\"Convert this dataframe to an interactive table.\"\n",
              "              style=\"display:none;\">\n",
              "        \n",
              "  <svg xmlns=\"http://www.w3.org/2000/svg\" height=\"24px\"viewBox=\"0 0 24 24\"\n",
              "       width=\"24px\">\n",
              "    <path d=\"M0 0h24v24H0V0z\" fill=\"none\"/>\n",
              "    <path d=\"M18.56 5.44l.94 2.06.94-2.06 2.06-.94-2.06-.94-.94-2.06-.94 2.06-2.06.94zm-11 1L8.5 8.5l.94-2.06 2.06-.94-2.06-.94L8.5 2.5l-.94 2.06-2.06.94zm10 10l.94 2.06.94-2.06 2.06-.94-2.06-.94-.94-2.06-.94 2.06-2.06.94z\"/><path d=\"M17.41 7.96l-1.37-1.37c-.4-.4-.92-.59-1.43-.59-.52 0-1.04.2-1.43.59L10.3 9.45l-7.72 7.72c-.78.78-.78 2.05 0 2.83L4 21.41c.39.39.9.59 1.41.59.51 0 1.02-.2 1.41-.59l7.78-7.78 2.81-2.81c.8-.78.8-2.07 0-2.86zM5.41 20L4 18.59l7.72-7.72 1.47 1.35L5.41 20z\"/>\n",
              "  </svg>\n",
              "      </button>\n",
              "      \n",
              "  <style>\n",
              "    .colab-df-container {\n",
              "      display:flex;\n",
              "      flex-wrap:wrap;\n",
              "      gap: 12px;\n",
              "    }\n",
              "\n",
              "    .colab-df-convert {\n",
              "      background-color: #E8F0FE;\n",
              "      border: none;\n",
              "      border-radius: 50%;\n",
              "      cursor: pointer;\n",
              "      display: none;\n",
              "      fill: #1967D2;\n",
              "      height: 32px;\n",
              "      padding: 0 0 0 0;\n",
              "      width: 32px;\n",
              "    }\n",
              "\n",
              "    .colab-df-convert:hover {\n",
              "      background-color: #E2EBFA;\n",
              "      box-shadow: 0px 1px 2px rgba(60, 64, 67, 0.3), 0px 1px 3px 1px rgba(60, 64, 67, 0.15);\n",
              "      fill: #174EA6;\n",
              "    }\n",
              "\n",
              "    [theme=dark] .colab-df-convert {\n",
              "      background-color: #3B4455;\n",
              "      fill: #D2E3FC;\n",
              "    }\n",
              "\n",
              "    [theme=dark] .colab-df-convert:hover {\n",
              "      background-color: #434B5C;\n",
              "      box-shadow: 0px 1px 3px 1px rgba(0, 0, 0, 0.15);\n",
              "      filter: drop-shadow(0px 1px 2px rgba(0, 0, 0, 0.3));\n",
              "      fill: #FFFFFF;\n",
              "    }\n",
              "  </style>\n",
              "\n",
              "      <script>\n",
              "        const buttonEl =\n",
              "          document.querySelector('#df-2762680a-a091-4734-bc70-ed34510e824f button.colab-df-convert');\n",
              "        buttonEl.style.display =\n",
              "          google.colab.kernel.accessAllowed ? 'block' : 'none';\n",
              "\n",
              "        async function convertToInteractive(key) {\n",
              "          const element = document.querySelector('#df-2762680a-a091-4734-bc70-ed34510e824f');\n",
              "          const dataTable =\n",
              "            await google.colab.kernel.invokeFunction('convertToInteractive',\n",
              "                                                     [key], {});\n",
              "          if (!dataTable) return;\n",
              "\n",
              "          const docLinkHtml = 'Like what you see? Visit the ' +\n",
              "            '<a target=\"_blank\" href=https://colab.research.google.com/notebooks/data_table.ipynb>data table notebook</a>'\n",
              "            + ' to learn more about interactive tables.';\n",
              "          element.innerHTML = '';\n",
              "          dataTable['output_type'] = 'display_data';\n",
              "          await google.colab.output.renderOutput(dataTable, element);\n",
              "          const docLink = document.createElement('div');\n",
              "          docLink.innerHTML = docLinkHtml;\n",
              "          element.appendChild(docLink);\n",
              "        }\n",
              "      </script>\n",
              "    </div>\n",
              "  </div>\n",
              "  "
            ]
          },
          "metadata": {},
          "execution_count": 1
        }
      ]
    },
    {
      "cell_type": "markdown",
      "metadata": {
        "id": "h1a-clG-jqPr"
      },
      "source": [
        "Let's first look at the complete information on the `df` DataFrame."
      ]
    },
    {
      "cell_type": "code",
      "metadata": {
        "id": "M2x3F5XtkAGd",
        "colab": {
          "base_uri": "https://localhost:8080/"
        },
        "outputId": "39a3265a-185e-42d8-a1e7-649ce0c85d13"
      },
      "source": [
        "# DataFrame information.\n",
        "df.info()"
      ],
      "execution_count": 2,
      "outputs": [
        {
          "output_type": "stream",
          "name": "stdout",
          "text": [
            "<class 'pandas.core.frame.DataFrame'>\n",
            "RangeIndex: 303 entries, 0 to 302\n",
            "Data columns (total 14 columns):\n",
            " #   Column    Non-Null Count  Dtype  \n",
            "---  ------    --------------  -----  \n",
            " 0   age       303 non-null    int64  \n",
            " 1   sex       303 non-null    int64  \n",
            " 2   cp        303 non-null    int64  \n",
            " 3   trestbps  303 non-null    int64  \n",
            " 4   chol      303 non-null    int64  \n",
            " 5   fbs       303 non-null    int64  \n",
            " 6   restecg   303 non-null    int64  \n",
            " 7   thalach   303 non-null    int64  \n",
            " 8   exang     303 non-null    int64  \n",
            " 9   oldpeak   303 non-null    float64\n",
            " 10  slope     303 non-null    int64  \n",
            " 11  ca        303 non-null    int64  \n",
            " 12  thal      303 non-null    int64  \n",
            " 13  target    303 non-null    int64  \n",
            "dtypes: float64(1), int64(13)\n",
            "memory usage: 33.3 KB\n"
          ]
        }
      ]
    },
    {
      "cell_type": "markdown",
      "metadata": {
        "id": "f6cHtaNIxePz"
      },
      "source": [
        "---"
      ]
    },
    {
      "cell_type": "markdown",
      "metadata": {
        "id": "KY8RUpcogKCP"
      },
      "source": [
        "#### Activity 1: Sampling Distribution And Standard Error\n",
        "\n",
        "*If we take several samples of a dataset (or population) such that each sample contains sufficient number of observations, then the mean of all the sample means will be very close or nearly equal to the population mean*\n",
        "\n",
        "This is called **Central Limit Theorem (CLT)**. \n",
        "The distribution of sample means of a population is called a **sampling distribution.**\n",
        "\n",
        "\n",
        "The sampling distribution has the following three properties:\n",
        "\n",
        "1. The mean of a sampling distribution (denoted by $\\mu_\\bar{X}$) is equal to the population mean (denoted by $\\mu$). Hence, \n",
        "$$\\mu_\\bar{X} = \\mu$$\n",
        "2. The standard deviation (or **standard error**) in the sampling distribution (denotes as $\\text{SE}$) is the ratio of the sample standard deviation ($s$) to the square root of sample size. It is given as $\\text{SE} = \\frac{s}{\\sqrt{n}}$, where $n$ is the sample size.\n",
        "3. For $n \\ge 30$, the sampling distribution follows the normal distribution (bell curve).\n",
        "\n",
        "\n",
        "\n"
      ]
    },
    {
      "cell_type": "markdown",
      "metadata": {
        "id": "8ecokmLLoVNX"
      },
      "source": [
        "---"
      ]
    },
    {
      "cell_type": "markdown",
      "metadata": {
        "id": "CJmv539kn9nq"
      },
      "source": [
        "#### Activity 2: Population Mean Estimation Using CLT^\n",
        "\n",
        "Now using CLT, let's learn to compute the population mean using the sample mean and sample standard deviation. \n",
        "\n",
        "This concept will be helpful when we don't know the population mean. In this case, we can easily calculate the population mean and population standard deviation because we have the dataset for the population. But many times in the real world, we have the dataset for a small sample and using the sample mean and sample standard deviation we will have to find the population mean.\n",
        "\n",
        "To learn this concept, let's consider the population of the patients having heart disease.\n"
      ]
    },
    {
      "cell_type": "code",
      "metadata": {
        "id": "4NDc3zxyhB-z",
        "colab": {
          "base_uri": "https://localhost:8080/"
        },
        "outputId": "8339cc50-5eab-464f-af2b-bc1f9eaf0b87"
      },
      "source": [
        "# S2.1: Create a Pandas series containing cholesterol values for the patients having heart disease. \n",
        "chol_disease = df.loc[df['target']==1,'chol']\n",
        "chol_disease"
      ],
      "execution_count": 5,
      "outputs": [
        {
          "output_type": "execute_result",
          "data": {
            "text/plain": [
              "0      233\n",
              "1      250\n",
              "2      204\n",
              "3      236\n",
              "4      354\n",
              "      ... \n",
              "160    240\n",
              "161    342\n",
              "162    157\n",
              "163    175\n",
              "164    175\n",
              "Name: chol, Length: 165, dtype: int64"
            ]
          },
          "metadata": {},
          "execution_count": 5
        }
      ]
    },
    {
      "cell_type": "code",
      "source": [
        "df\n"
      ],
      "metadata": {
        "colab": {
          "base_uri": "https://localhost:8080/",
          "height": 424
        },
        "id": "3QKW2Diy8GdT",
        "outputId": "13ef8abb-5860-4b2f-ef2d-29f5760d2d78"
      },
      "execution_count": 4,
      "outputs": [
        {
          "output_type": "execute_result",
          "data": {
            "text/plain": [
              "     age  sex  cp  trestbps  chol  fbs  restecg  thalach  exang  oldpeak  \\\n",
              "0     63    1   3       145   233    1        0      150      0      2.3   \n",
              "1     37    1   2       130   250    0        1      187      0      3.5   \n",
              "2     41    0   1       130   204    0        0      172      0      1.4   \n",
              "3     56    1   1       120   236    0        1      178      0      0.8   \n",
              "4     57    0   0       120   354    0        1      163      1      0.6   \n",
              "..   ...  ...  ..       ...   ...  ...      ...      ...    ...      ...   \n",
              "298   57    0   0       140   241    0        1      123      1      0.2   \n",
              "299   45    1   3       110   264    0        1      132      0      1.2   \n",
              "300   68    1   0       144   193    1        1      141      0      3.4   \n",
              "301   57    1   0       130   131    0        1      115      1      1.2   \n",
              "302   57    0   1       130   236    0        0      174      0      0.0   \n",
              "\n",
              "     slope  ca  thal  target  \n",
              "0        0   0     1       1  \n",
              "1        0   0     2       1  \n",
              "2        2   0     2       1  \n",
              "3        2   0     2       1  \n",
              "4        2   0     2       1  \n",
              "..     ...  ..   ...     ...  \n",
              "298      1   0     3       0  \n",
              "299      1   0     3       0  \n",
              "300      1   2     3       0  \n",
              "301      1   1     3       0  \n",
              "302      1   1     2       0  \n",
              "\n",
              "[303 rows x 14 columns]"
            ],
            "text/html": [
              "\n",
              "  <div id=\"df-40bed56e-2634-495f-af8a-70f13ff662d3\">\n",
              "    <div class=\"colab-df-container\">\n",
              "      <div>\n",
              "<style scoped>\n",
              "    .dataframe tbody tr th:only-of-type {\n",
              "        vertical-align: middle;\n",
              "    }\n",
              "\n",
              "    .dataframe tbody tr th {\n",
              "        vertical-align: top;\n",
              "    }\n",
              "\n",
              "    .dataframe thead th {\n",
              "        text-align: right;\n",
              "    }\n",
              "</style>\n",
              "<table border=\"1\" class=\"dataframe\">\n",
              "  <thead>\n",
              "    <tr style=\"text-align: right;\">\n",
              "      <th></th>\n",
              "      <th>age</th>\n",
              "      <th>sex</th>\n",
              "      <th>cp</th>\n",
              "      <th>trestbps</th>\n",
              "      <th>chol</th>\n",
              "      <th>fbs</th>\n",
              "      <th>restecg</th>\n",
              "      <th>thalach</th>\n",
              "      <th>exang</th>\n",
              "      <th>oldpeak</th>\n",
              "      <th>slope</th>\n",
              "      <th>ca</th>\n",
              "      <th>thal</th>\n",
              "      <th>target</th>\n",
              "    </tr>\n",
              "  </thead>\n",
              "  <tbody>\n",
              "    <tr>\n",
              "      <th>0</th>\n",
              "      <td>63</td>\n",
              "      <td>1</td>\n",
              "      <td>3</td>\n",
              "      <td>145</td>\n",
              "      <td>233</td>\n",
              "      <td>1</td>\n",
              "      <td>0</td>\n",
              "      <td>150</td>\n",
              "      <td>0</td>\n",
              "      <td>2.3</td>\n",
              "      <td>0</td>\n",
              "      <td>0</td>\n",
              "      <td>1</td>\n",
              "      <td>1</td>\n",
              "    </tr>\n",
              "    <tr>\n",
              "      <th>1</th>\n",
              "      <td>37</td>\n",
              "      <td>1</td>\n",
              "      <td>2</td>\n",
              "      <td>130</td>\n",
              "      <td>250</td>\n",
              "      <td>0</td>\n",
              "      <td>1</td>\n",
              "      <td>187</td>\n",
              "      <td>0</td>\n",
              "      <td>3.5</td>\n",
              "      <td>0</td>\n",
              "      <td>0</td>\n",
              "      <td>2</td>\n",
              "      <td>1</td>\n",
              "    </tr>\n",
              "    <tr>\n",
              "      <th>2</th>\n",
              "      <td>41</td>\n",
              "      <td>0</td>\n",
              "      <td>1</td>\n",
              "      <td>130</td>\n",
              "      <td>204</td>\n",
              "      <td>0</td>\n",
              "      <td>0</td>\n",
              "      <td>172</td>\n",
              "      <td>0</td>\n",
              "      <td>1.4</td>\n",
              "      <td>2</td>\n",
              "      <td>0</td>\n",
              "      <td>2</td>\n",
              "      <td>1</td>\n",
              "    </tr>\n",
              "    <tr>\n",
              "      <th>3</th>\n",
              "      <td>56</td>\n",
              "      <td>1</td>\n",
              "      <td>1</td>\n",
              "      <td>120</td>\n",
              "      <td>236</td>\n",
              "      <td>0</td>\n",
              "      <td>1</td>\n",
              "      <td>178</td>\n",
              "      <td>0</td>\n",
              "      <td>0.8</td>\n",
              "      <td>2</td>\n",
              "      <td>0</td>\n",
              "      <td>2</td>\n",
              "      <td>1</td>\n",
              "    </tr>\n",
              "    <tr>\n",
              "      <th>4</th>\n",
              "      <td>57</td>\n",
              "      <td>0</td>\n",
              "      <td>0</td>\n",
              "      <td>120</td>\n",
              "      <td>354</td>\n",
              "      <td>0</td>\n",
              "      <td>1</td>\n",
              "      <td>163</td>\n",
              "      <td>1</td>\n",
              "      <td>0.6</td>\n",
              "      <td>2</td>\n",
              "      <td>0</td>\n",
              "      <td>2</td>\n",
              "      <td>1</td>\n",
              "    </tr>\n",
              "    <tr>\n",
              "      <th>...</th>\n",
              "      <td>...</td>\n",
              "      <td>...</td>\n",
              "      <td>...</td>\n",
              "      <td>...</td>\n",
              "      <td>...</td>\n",
              "      <td>...</td>\n",
              "      <td>...</td>\n",
              "      <td>...</td>\n",
              "      <td>...</td>\n",
              "      <td>...</td>\n",
              "      <td>...</td>\n",
              "      <td>...</td>\n",
              "      <td>...</td>\n",
              "      <td>...</td>\n",
              "    </tr>\n",
              "    <tr>\n",
              "      <th>298</th>\n",
              "      <td>57</td>\n",
              "      <td>0</td>\n",
              "      <td>0</td>\n",
              "      <td>140</td>\n",
              "      <td>241</td>\n",
              "      <td>0</td>\n",
              "      <td>1</td>\n",
              "      <td>123</td>\n",
              "      <td>1</td>\n",
              "      <td>0.2</td>\n",
              "      <td>1</td>\n",
              "      <td>0</td>\n",
              "      <td>3</td>\n",
              "      <td>0</td>\n",
              "    </tr>\n",
              "    <tr>\n",
              "      <th>299</th>\n",
              "      <td>45</td>\n",
              "      <td>1</td>\n",
              "      <td>3</td>\n",
              "      <td>110</td>\n",
              "      <td>264</td>\n",
              "      <td>0</td>\n",
              "      <td>1</td>\n",
              "      <td>132</td>\n",
              "      <td>0</td>\n",
              "      <td>1.2</td>\n",
              "      <td>1</td>\n",
              "      <td>0</td>\n",
              "      <td>3</td>\n",
              "      <td>0</td>\n",
              "    </tr>\n",
              "    <tr>\n",
              "      <th>300</th>\n",
              "      <td>68</td>\n",
              "      <td>1</td>\n",
              "      <td>0</td>\n",
              "      <td>144</td>\n",
              "      <td>193</td>\n",
              "      <td>1</td>\n",
              "      <td>1</td>\n",
              "      <td>141</td>\n",
              "      <td>0</td>\n",
              "      <td>3.4</td>\n",
              "      <td>1</td>\n",
              "      <td>2</td>\n",
              "      <td>3</td>\n",
              "      <td>0</td>\n",
              "    </tr>\n",
              "    <tr>\n",
              "      <th>301</th>\n",
              "      <td>57</td>\n",
              "      <td>1</td>\n",
              "      <td>0</td>\n",
              "      <td>130</td>\n",
              "      <td>131</td>\n",
              "      <td>0</td>\n",
              "      <td>1</td>\n",
              "      <td>115</td>\n",
              "      <td>1</td>\n",
              "      <td>1.2</td>\n",
              "      <td>1</td>\n",
              "      <td>1</td>\n",
              "      <td>3</td>\n",
              "      <td>0</td>\n",
              "    </tr>\n",
              "    <tr>\n",
              "      <th>302</th>\n",
              "      <td>57</td>\n",
              "      <td>0</td>\n",
              "      <td>1</td>\n",
              "      <td>130</td>\n",
              "      <td>236</td>\n",
              "      <td>0</td>\n",
              "      <td>0</td>\n",
              "      <td>174</td>\n",
              "      <td>0</td>\n",
              "      <td>0.0</td>\n",
              "      <td>1</td>\n",
              "      <td>1</td>\n",
              "      <td>2</td>\n",
              "      <td>0</td>\n",
              "    </tr>\n",
              "  </tbody>\n",
              "</table>\n",
              "<p>303 rows × 14 columns</p>\n",
              "</div>\n",
              "      <button class=\"colab-df-convert\" onclick=\"convertToInteractive('df-40bed56e-2634-495f-af8a-70f13ff662d3')\"\n",
              "              title=\"Convert this dataframe to an interactive table.\"\n",
              "              style=\"display:none;\">\n",
              "        \n",
              "  <svg xmlns=\"http://www.w3.org/2000/svg\" height=\"24px\"viewBox=\"0 0 24 24\"\n",
              "       width=\"24px\">\n",
              "    <path d=\"M0 0h24v24H0V0z\" fill=\"none\"/>\n",
              "    <path d=\"M18.56 5.44l.94 2.06.94-2.06 2.06-.94-2.06-.94-.94-2.06-.94 2.06-2.06.94zm-11 1L8.5 8.5l.94-2.06 2.06-.94-2.06-.94L8.5 2.5l-.94 2.06-2.06.94zm10 10l.94 2.06.94-2.06 2.06-.94-2.06-.94-.94-2.06-.94 2.06-2.06.94z\"/><path d=\"M17.41 7.96l-1.37-1.37c-.4-.4-.92-.59-1.43-.59-.52 0-1.04.2-1.43.59L10.3 9.45l-7.72 7.72c-.78.78-.78 2.05 0 2.83L4 21.41c.39.39.9.59 1.41.59.51 0 1.02-.2 1.41-.59l7.78-7.78 2.81-2.81c.8-.78.8-2.07 0-2.86zM5.41 20L4 18.59l7.72-7.72 1.47 1.35L5.41 20z\"/>\n",
              "  </svg>\n",
              "      </button>\n",
              "      \n",
              "  <style>\n",
              "    .colab-df-container {\n",
              "      display:flex;\n",
              "      flex-wrap:wrap;\n",
              "      gap: 12px;\n",
              "    }\n",
              "\n",
              "    .colab-df-convert {\n",
              "      background-color: #E8F0FE;\n",
              "      border: none;\n",
              "      border-radius: 50%;\n",
              "      cursor: pointer;\n",
              "      display: none;\n",
              "      fill: #1967D2;\n",
              "      height: 32px;\n",
              "      padding: 0 0 0 0;\n",
              "      width: 32px;\n",
              "    }\n",
              "\n",
              "    .colab-df-convert:hover {\n",
              "      background-color: #E2EBFA;\n",
              "      box-shadow: 0px 1px 2px rgba(60, 64, 67, 0.3), 0px 1px 3px 1px rgba(60, 64, 67, 0.15);\n",
              "      fill: #174EA6;\n",
              "    }\n",
              "\n",
              "    [theme=dark] .colab-df-convert {\n",
              "      background-color: #3B4455;\n",
              "      fill: #D2E3FC;\n",
              "    }\n",
              "\n",
              "    [theme=dark] .colab-df-convert:hover {\n",
              "      background-color: #434B5C;\n",
              "      box-shadow: 0px 1px 3px 1px rgba(0, 0, 0, 0.15);\n",
              "      filter: drop-shadow(0px 1px 2px rgba(0, 0, 0, 0.3));\n",
              "      fill: #FFFFFF;\n",
              "    }\n",
              "  </style>\n",
              "\n",
              "      <script>\n",
              "        const buttonEl =\n",
              "          document.querySelector('#df-40bed56e-2634-495f-af8a-70f13ff662d3 button.colab-df-convert');\n",
              "        buttonEl.style.display =\n",
              "          google.colab.kernel.accessAllowed ? 'block' : 'none';\n",
              "\n",
              "        async function convertToInteractive(key) {\n",
              "          const element = document.querySelector('#df-40bed56e-2634-495f-af8a-70f13ff662d3');\n",
              "          const dataTable =\n",
              "            await google.colab.kernel.invokeFunction('convertToInteractive',\n",
              "                                                     [key], {});\n",
              "          if (!dataTable) return;\n",
              "\n",
              "          const docLinkHtml = 'Like what you see? Visit the ' +\n",
              "            '<a target=\"_blank\" href=https://colab.research.google.com/notebooks/data_table.ipynb>data table notebook</a>'\n",
              "            + ' to learn more about interactive tables.';\n",
              "          element.innerHTML = '';\n",
              "          dataTable['output_type'] = 'display_data';\n",
              "          await google.colab.output.renderOutput(dataTable, element);\n",
              "          const docLink = document.createElement('div');\n",
              "          docLink.innerHTML = docLinkHtml;\n",
              "          element.appendChild(docLink);\n",
              "        }\n",
              "      </script>\n",
              "    </div>\n",
              "  </div>\n",
              "  "
            ]
          },
          "metadata": {},
          "execution_count": 4
        }
      ]
    },
    {
      "cell_type": "markdown",
      "metadata": {
        "id": "wAnkyR_2yGl6"
      },
      "source": [
        "So there are 165 patients who have heart disease. Hence, in this case, our population dataset consists of 165 observations. Now, let's calculate the population mean and population standard deviation for this dataset."
      ]
    },
    {
      "cell_type": "code",
      "metadata": {
        "id": "-LwHx7dr6AcA",
        "colab": {
          "base_uri": "https://localhost:8080/"
        },
        "outputId": "da893e0f-6d52-457e-cd8d-fc6d2dc83fc6"
      },
      "source": [
        "# S2.2: Calculate population mean and population standard deviation for the patients having heart disease.\n",
        "print(chol_disease.mean())\n",
        "chol_disease.std()"
      ],
      "execution_count": 6,
      "outputs": [
        {
          "output_type": "stream",
          "name": "stdout",
          "text": [
            "242.23030303030302\n"
          ]
        },
        {
          "output_type": "execute_result",
          "data": {
            "text/plain": [
              "53.55287155453833"
            ]
          },
          "metadata": {},
          "execution_count": 6
        }
      ]
    },
    {
      "cell_type": "markdown",
      "metadata": {
        "id": "X-z5U3eW_A8A"
      },
      "source": [
        "Now let's take a sample of (say 50) patients out of 165 patients having heart disease and compute the mean cholesterol level along with the standard deviation.\n",
        "\n",
        "**Note:** Choose a sample size of at least 30 so that the sampling distribution follows the normal distribution."
      ]
    },
    {
      "cell_type": "code",
      "metadata": {
        "id": "LBFi6lMh2uke",
        "colab": {
          "base_uri": "https://localhost:8080/"
        },
        "outputId": "8631c85f-9f08-4e69-9945-9dd802e76ea0"
      },
      "source": [
        "# S2.3: Create a sample of 50 patients out of 165 patients having heart disease.\n",
        "chol_disease_sample = chol_disease.sample(n=50)\n",
        "chol_disease_sample"
      ],
      "execution_count": 7,
      "outputs": [
        {
          "output_type": "execute_result",
          "data": {
            "text/plain": [
              "6      294\n",
              "127    277\n",
              "81     308\n",
              "58     182\n",
              "9      168\n",
              "48     216\n",
              "24     199\n",
              "154    220\n",
              "117    193\n",
              "75     250\n",
              "115    215\n",
              "44     321\n",
              "38     269\n",
              "126    204\n",
              "13     211\n",
              "70     258\n",
              "139    263\n",
              "151    149\n",
              "85     564\n",
              "60     265\n",
              "144    197\n",
              "59     303\n",
              "156    253\n",
              "79     240\n",
              "21     233\n",
              "12     266\n",
              "130    201\n",
              "27     175\n",
              "107    236\n",
              "63     203\n",
              "10     239\n",
              "159    221\n",
              "82     318\n",
              "40     308\n",
              "111    126\n",
              "57     260\n",
              "5      192\n",
              "8      199\n",
              "148    226\n",
              "0      233\n",
              "112    313\n",
              "147    240\n",
              "136    178\n",
              "101    270\n",
              "46     235\n",
              "137    208\n",
              "23     243\n",
              "120    303\n",
              "100    244\n",
              "158    220\n",
              "Name: chol, dtype: int64"
            ]
          },
          "metadata": {},
          "execution_count": 7
        }
      ]
    },
    {
      "cell_type": "markdown",
      "metadata": {
        "id": "VqAXBnuf2oNw"
      },
      "source": [
        "Let's compute mean cholesterol level along with standard deviation for the sample of patients having heart disease."
      ]
    },
    {
      "cell_type": "code",
      "metadata": {
        "id": "pYkn8F1Kxz69"
      },
      "source": [
        "# S2.4: Compute mean cholesterol level along with standard deviation for the patients having heart disease.\n",
        "sample_std =chol_disease_sample.std()\n",
        "sample_mean =chol_disease_sample.mean()\n"
      ],
      "execution_count": 15,
      "outputs": []
    },
    {
      "cell_type": "markdown",
      "metadata": {
        "id": "Yk9NsLVxyRv6"
      },
      "source": [
        "Now, using CLT, with 95% probability (or confidence), you can say that the population mean $\\mu$ of cholesterol level for the patients having heart disease will lie between $\\left(\\text{sample mean} - 2 \\times \\frac{\\text{sample standard deviation}}{\\sqrt{\\text{sample size}}}\\right)$ and $\\left(\\text{sample mean} + 2 \\times \\frac{\\text{sample standard deviation}}{\\sqrt{\\text{sample size}}}\\right)$\n",
        "\n",
        "**Recall Normal Distribution**\n",
        "\n",
        "1. Approx. 68% of the values lie within one-sigma interval around the mean.\n",
        "\n",
        "2. Approx. 95% of the values lie within a two-sigma interval around the mean.\n",
        "\n",
        "3. Approx. 99.7% of the values lie within a three-sigma interval around the mean.\n",
        "\n",
        "<img src = 'https://student-datasets-bucket.s3.ap-south-1.amazonaws.com/images/vecstock-norm-dist.jpg' width = 700>\n",
        "\n",
        "\n",
        "Now, with 95% probability (or confidence), calculate the population mean of cholesterol level for the patients having heart disease using the sample mean and sample standard deviation."
      ]
    },
    {
      "cell_type": "code",
      "metadata": {
        "id": "teGIVfaOjb7A",
        "colab": {
          "base_uri": "https://localhost:8080/"
        },
        "outputId": "84292a5e-ca23-486e-b5a1-f97aadcf868b"
      },
      "source": [
        "# S2.5: With 95% probability, calculate the population mean of cholesterol level using the sample mean and sample standard deviation.\n",
        "sample_sqrt = np.sqrt(chol_disease_sample.size)\n",
        "std_error = sample_std/sample_sqrt\n",
        "std_form = sample_mean -2*(std_error)\n",
        "std_form2 = sample_mean +2*(std_error)\n",
        "print(std_form,std_form2)"
      ],
      "execution_count": 16,
      "outputs": [
        {
          "output_type": "stream",
          "name": "stdout",
          "text": [
            "223.8791410929789 260.4808589070211\n"
          ]
        }
      ]
    },
    {
      "cell_type": "markdown",
      "metadata": {
        "id": "tKX_a6-B9WOP"
      },
      "source": [
        "So, with 95% probability (or confidence), the population mean $\\mu$ of cholesterol level for the patients having heart disease will fall in the above interval. In fact, the population mean is 242.23 which falls in the above interval.\n",
        "\n",
        "Similarly, using CLT, with 68% probability (or confidence), you can say that the population mean $\\mu$ of cholesterol level for the patients having heart disease will lie between $\\left(\\text{sample mean} - \\frac{\\text{sample standard deviation}}{\\sqrt{\\text{sample size}}}\\right)$ and $\\left(\\text{sample mean} + \\frac{\\text{sample standard deviation}}{\\sqrt{\\text{sample size}}}\\right)$\n",
        "\n",
        "\n",
        "Now, with 68% probability (or confidence), calculate the population mean of cholesterol level for the patients having heart disease using the sample mean and sample standard deviation."
      ]
    },
    {
      "cell_type": "code",
      "metadata": {
        "id": "oLUKWJc97MZf",
        "colab": {
          "base_uri": "https://localhost:8080/"
        },
        "outputId": "656753fa-1304-4417-f1e8-c6ac90839b85"
      },
      "source": [
        "# S2.6: Calculate the 68% confidence interval for the population mean of cholesterol level using the sample mean and standard error.\n",
        "std_68_minus = sample_mean -(std_error)\n",
        "std_68_plus = sample_mean +(std_error)\n",
        "print(std_68_minus,std_68_plus)"
      ],
      "execution_count": 18,
      "outputs": [
        {
          "output_type": "stream",
          "name": "stdout",
          "text": [
            "233.02957054648945 251.33042945351056\n"
          ]
        }
      ]
    },
    {
      "cell_type": "markdown",
      "metadata": {
        "id": "sfJVkSIJ7j7i"
      },
      "source": [
        "So, with 68% probability (or confidence), the population mean $\\mu$ of cholesterol level for the patients having heart disease will fall in the above interval. Since the probability is slightly lower, the population mean (which is 242.23 in this case) may or may not fall in the above interval.\n",
        "\n",
        "Now lastly, let's calculate the mean of cholesterol level for the patients not having heart disease to compare it with the average cholesterol level for the patients having heart disease."
      ]
    },
    {
      "cell_type": "code",
      "metadata": {
        "id": "2N7fhAGDLwRE",
        "colab": {
          "base_uri": "https://localhost:8080/"
        },
        "outputId": "55d99d02-9bf1-48f0-9d1f-8434a91fe553"
      },
      "source": [
        "# S2.7: Calculate the population mean of the cholesterol level for the patients not having heart disease.\n",
        "chol_not_disease = df.loc[df['target']==0,'chol']\n",
        "chol_not_disease.mean()"
      ],
      "execution_count": 19,
      "outputs": [
        {
          "output_type": "execute_result",
          "data": {
            "text/plain": [
              "251.08695652173913"
            ]
          },
          "metadata": {},
          "execution_count": 19
        }
      ]
    },
    {
      "cell_type": "markdown",
      "metadata": {
        "id": "LmZkSIW4lbV1"
      },
      "source": [
        "So on comparing only the means of cholesterol values, it is quite clear that on an average people having lower cholesterol levels are likely to have heart disease.\n",
        "\n",
        "You can also create a box plot to visualise the spread of the `chol` values in the case of patients having heart disease and not having heart disease."
      ]
    },
    {
      "cell_type": "code",
      "metadata": {
        "id": "dxBgJme_NEgw",
        "colab": {
          "base_uri": "https://localhost:8080/",
          "height": 334
        },
        "outputId": "bb87db66-fb81-4904-ff62-37789437a3b5"
      },
      "source": [
        "# S2.8: Create a box plot to compare the spread of means in the case of patients having heart disease and not having it.\n",
        "plt.figure(figsize = (15,5))\n",
        "sns.boxplot(x=df['chol'],y=df['target'],orient='h')\n",
        "plt.show()"
      ],
      "execution_count": 21,
      "outputs": [
        {
          "output_type": "display_data",
          "data": {
            "text/plain": [
              "<Figure size 1080x360 with 1 Axes>"
            ],
            "image/png": "[encoded data removed]"
          },
          "metadata": {
            "needs_background": "light"
          }
        }
      ]
    },
    {
      "cell_type": "markdown",
      "metadata": {
        "id": "nkVP2G1jPwdA"
      },
      "source": [
        "From the box plot, you can see that the first, second (or median) and third quartiles of the cholesterol values for the patients having heart disease (shown with the orange colour) are lower as compared to the ones for the patients not having it (shown with the blue colour). Hence, we can confidently say that people having lower cholesterol levels are more likely to have heart disease."
      ]
    },
    {
      "cell_type": "markdown",
      "metadata": {
        "id": "I0XiVy43oHJy"
      },
      "source": [
        "---"
      ]
    },
    {
      "cell_type": "markdown",
      "metadata": {
        "id": "AXBc5OBVZc_E"
      },
      "source": [
        "#### Activity 3: Standard Normalisation (or Scaling)^^\n",
        "\n",
        "Now let's learn the concept of standard normalisation which is another normalisation technique to reduce the size of the numeric values. When you normalise an array/series of values using the standard normalisation technique, the mean of all the normalised values will be 0 and the standard deviation will be 1.\n",
        "\n",
        "Let's normalise all the `chol` values to understand this concept. To do this, you need to calculate  $Z$-score for each value. It is given by the following expression:\n",
        "\n",
        "$$Z = \\frac{X - \\mu}{\\sigma}$$\n",
        "\n",
        "where \n",
        "\n",
        "- $X$ is an observation \n",
        "\n",
        "- $\\mu$ is the population mean\n",
        "\n",
        "- $\\sigma$ is the population standard deviation\n"
      ]
    },
    {
      "cell_type": "code",
      "metadata": {
        "id": "rsl2hOUXcusP",
        "colab": {
          "base_uri": "https://localhost:8080/"
        },
        "outputId": "45eb76c0-5497-4e28-e3ed-57f477c1fc8a"
      },
      "source": [
        "# S3.1 Calculate the z-score for the first observation in the 'chol_having_disease' Pandas series.\n",
        "z_score_1 = (chol_disease_sample[0]-sample_mean)/sample_std\n",
        "z_score_1"
      ],
      "execution_count": 25,
      "outputs": [
        {
          "output_type": "execute_result",
          "data": {
            "text/plain": [
              "-0.14187837378063503"
            ]
          },
          "metadata": {},
          "execution_count": 25
        }
      ]
    },
    {
      "cell_type": "markdown",
      "metadata": {
        "id": "wvDSIzFWd68a"
      },
      "source": [
        "Let's create a function to calculate the $Z$-score for each value in the `chol_having_disease` series."
      ]
    },
    {
      "cell_type": "code",
      "metadata": {
        "id": "99yEHaEUh7eq",
        "colab": {
          "base_uri": "https://localhost:8080/"
        },
        "outputId": "0a90dc86-213e-42cf-a4c6-ae2af56014b3"
      },
      "source": [
        "# S3.2: Calculate the Z-score for all the values in the 'chol_having_disease' Pandas series.\n",
        "def z_score(series):\n",
        "  score = (series-sample_mean)/sample_std\n",
        "  return score\n",
        "z_score_disease = z_score(chol_disease_sample)\n",
        "z_score_disease"
      ],
      "execution_count": 26,
      "outputs": [
        {
          "output_type": "execute_result",
          "data": {
            "text/plain": [
              "6      0.800886\n",
              "127    0.538149\n",
              "81     1.017259\n",
              "58    -0.930092\n",
              "9     -1.146464\n",
              "48    -0.404616\n",
              "24    -0.667354\n",
              "154   -0.342795\n",
              "117   -0.760085\n",
              "75     0.120859\n",
              "115   -0.420071\n",
              "44     1.218176\n",
              "38     0.414507\n",
              "126   -0.590078\n",
              "13    -0.481892\n",
              "70     0.244501\n",
              "139    0.321776\n",
              "151   -1.440112\n",
              "85     4.973780\n",
              "60     0.352687\n",
              "144   -0.698264\n",
              "59     0.939983\n",
              "156    0.167225\n",
              "79    -0.033692\n",
              "21    -0.141878\n",
              "12     0.368142\n",
              "130   -0.636444\n",
              "27    -1.038278\n",
              "107   -0.095513\n",
              "63    -0.605533\n",
              "10    -0.049147\n",
              "159   -0.327340\n",
              "82     1.171810\n",
              "40     1.017259\n",
              "111   -1.795581\n",
              "57     0.275411\n",
              "5     -0.775540\n",
              "8     -0.667354\n",
              "148   -0.250064\n",
              "0     -0.141878\n",
              "112    1.094534\n",
              "147   -0.033692\n",
              "136   -0.991912\n",
              "101    0.429963\n",
              "46    -0.110968\n",
              "137   -0.528257\n",
              "23     0.012673\n",
              "120    0.939983\n",
              "100    0.028128\n",
              "158   -0.342795\n",
              "Name: chol, dtype: float64"
            ]
          },
          "metadata": {},
          "execution_count": 26
        }
      ]
    },
    {
      "cell_type": "markdown",
      "metadata": {
        "id": "J3y8bE4FenwB"
      },
      "source": [
        "Now let's calculate the mean and standard deviation of all the $Z$-scores. The mean value should be 0 and the standard deviation should be 1."
      ]
    },
    {
      "cell_type": "code",
      "metadata": {
        "id": "mcG_inwFaFKJ",
        "colab": {
          "base_uri": "https://localhost:8080/"
        },
        "outputId": "22d9bc5c-bbf0-4cde-fb56-7b17ae65308b"
      },
      "source": [
        "# S3.3: Calculate the mean and standard deviation of all the Z-scores. \n",
        "print(z_score_disease.std())\n",
        "z_score_disease.mean()\n"
      ],
      "execution_count": 28,
      "outputs": [
        {
          "output_type": "stream",
          "name": "stdout",
          "text": [
            "1.0\n"
          ]
        },
        {
          "output_type": "execute_result",
          "data": {
            "text/plain": [
              "-1.0658141036401502e-16"
            ]
          },
          "metadata": {},
          "execution_count": 28
        }
      ]
    },
    {
      "cell_type": "markdown",
      "metadata": {
        "id": "FLSUsxtEfa0E"
      },
      "source": [
        "The process of calculating the $Z$-score for all the observations in an array/series is called **standard normalisation** or **standard scaling**. \n",
        "\n",
        "*Remember that the mean and standard deviation of the standard normalised values will be always 0 and 1 respectively.*"
      ]
    },
    {
      "cell_type": "markdown",
      "metadata": {
        "id": "mwlmPZa0ZcGQ"
      },
      "source": [
        "---"
      ]
    },
    {
      "cell_type": "markdown",
      "metadata": {
        "id": "ktMqpzEWkMKO"
      },
      "source": [
        "#### Activity 4: Standard Normal Distribution^^^\n",
        "\n",
        "After normalising the values in an array/sereies (that follows normal distribution), if you plot it again, you will get a normal distribution as shown in the image below.\n",
        "\n",
        "<img src='https://student-datasets-bucket.s3.ap-south-1.amazonaws.com/images/standard-normal-distribution.png' width = 800>\n",
        "\n",
        "The values on the $x$-axis can be represented with their corresponding $Z$-scores.\n",
        "\n",
        "In the case of standard normal distribution, \n",
        "\n",
        "- $\\mu = 0$ therefore, $Z = 0$ and\n",
        "\n",
        "- $\\sigma = 1$ therefore, $Z = 1$\n",
        "\n",
        "So\n",
        "\n",
        "- $\\mu - \\sigma = -1 \\Rightarrow Z = -1$\n",
        "\n",
        "- $\\mu - 2\\sigma = -2 \\Rightarrow Z = -2$\n",
        "\n",
        "- $\\mu - 3\\sigma = -3 \\Rightarrow Z = -3$\n",
        "\n",
        "- $\\mu + \\sigma = 1 \\Rightarrow Z = 1$\n",
        "\n",
        "- $\\mu + 2\\sigma = 2 \\Rightarrow Z = 2$\n",
        "\n",
        "- $\\mu + 3\\sigma = 3 \\Rightarrow Z = 3$\n",
        "\n",
        "\n",
        "\n",
        "\n",
        "Let's, calculate the $Z$-score for all the values in the `chol_not_having_disease` Pandas series and then plot its probability distribution without histogram."
      ]
    },
    {
      "cell_type": "code",
      "metadata": {
        "id": "FxoHjz6KsHNb",
        "colab": {
          "base_uri": "https://localhost:8080/",
          "height": 656
        },
        "outputId": "4a1946ad-2c2b-402f-85eb-97c85f71fde9"
      },
      "source": [
        "# S4.1: Calculate the Z-score for all the values in the 'chol_not_having_disease' Pandas series and plot its probability distribution.\n",
        "z_score_not_disease = z_score(chol_not_disease)\n",
        "plt.figure(figsize=(20,10))\n",
        "sns.distplot(z_score_not_disease,hist=False)\n",
        "\n",
        "plt.axvline(z_score_not_disease.mean(),color='red')\n",
        "plt.show()"
      ],
      "execution_count": 32,
      "outputs": [
        {
          "output_type": "stream",
          "name": "stderr",
          "text": [
            "/usr/local/lib/python3.7/dist-packages/seaborn/distributions.py:2619: FutureWarning: `distplot` is a deprecated function and will be removed in a future version. Please adapt your code to use either `displot` (a figure-level function with similar flexibility) or `kdeplot` (an axes-level function for kernel density plots).\n",
            "  warnings.warn(msg, FutureWarning)\n"
          ]
        },
        {
          "output_type": "display_data",
          "data": {
            "text/plain": [
              "<Figure size 1440x720 with 1 Axes>"
            ],
            "image/png": "[encoded data removed]"
          },
          "metadata": {
            "needs_background": "light"
          }
        }
      ]
    },
    {
      "cell_type": "markdown",
      "metadata": {
        "id": "HtgyLs0SYdKi"
      },
      "source": [
        "Since the `chol_not_having_disease` follows normal distribution, its normalised version, i.e., `chol_no_disease_zscores` also follows normal distribution.\n",
        "\n",
        "Let's stop here. In the next class, we will learn to calculate probability of a continuous random variable using $Z$-score and cumulative distribution function."
      ]
    },
    {
      "cell_type": "markdown",
      "metadata": {
        "id": "BY4GdquPkK5h"
      },
      "source": [
        "---"
      ]
    },
    {
      "cell_type": "markdown",
      "metadata": {
        "id": "Bcug4C6V9he8"
      },
      "source": [
        "### **Project**\n",
        "You can now attempt the **Applied Tech. Project 50 - CLT II and Standard Normal Distribution** on your own.\n",
        "\n",
        "**Applied Tech. Project 50 - CLT II and Standard Normal Distribution**: https://colab.research.google.com/drive/1w8cutyW6OvlkPrOKUBiMWvOiOs0X_WOO?usp=sharing"
      ]
    },
    {
      "cell_type": "markdown",
      "metadata": {
        "id": "CevKSqs29rB2"
      },
      "source": [
        "---"
      ]
    }
  ]
}